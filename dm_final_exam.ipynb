{
 "cells": [
  {
   "cell_type": "code",
   "execution_count": 1,
   "id": "118fc698",
   "metadata": {},
   "outputs": [],
   "source": [
    "import pandas as pd\n",
    "import numpy as np"
   ]
  },
  {
   "cell_type": "markdown",
   "id": "409beeb7",
   "metadata": {},
   "source": [
    "# MULTI DIM NORMAL"
   ]
  },
  {
   "cell_type": "code",
   "execution_count": 2,
   "id": "2301ad33",
   "metadata": {},
   "outputs": [],
   "source": [
    "df = pd.DataFrame({\n",
    "...                   'X1': [1.5,2.2,3.9,2.1,0.5,0.9,2.7,2.5,2.8,0.1],\n",
    "...                   'X2': [4.5,1.5,3.4,2.9,3.2,4.3,2.1,3.5,4.9,3.7]\n",
    "}\n",
    "...                  )"
   ]
  },
  {
   "cell_type": "code",
   "execution_count": 3,
   "id": "66c272c3",
   "metadata": {},
   "outputs": [],
   "source": [
    "df_nump = df.to_numpy()"
   ]
  },
  {
   "cell_type": "code",
   "execution_count": 4,
   "id": "bb2d1da1",
   "metadata": {},
   "outputs": [
    {
     "data": {
      "text/plain": [
       "array([[1.5, 4.5],\n",
       "       [2.2, 1.5],\n",
       "       [3.9, 3.4],\n",
       "       [2.1, 2.9],\n",
       "       [0.5, 3.2],\n",
       "       [0.9, 4.3],\n",
       "       [2.7, 2.1],\n",
       "       [2.5, 3.5],\n",
       "       [2.8, 4.9],\n",
       "       [0.1, 3.7]])"
      ]
     },
     "execution_count": 4,
     "metadata": {},
     "output_type": "execute_result"
    }
   ],
   "source": [
    "df_nump"
   ]
  },
  {
   "cell_type": "code",
   "execution_count": 5,
   "id": "2280d703",
   "metadata": {},
   "outputs": [],
   "source": [
    "cov = [[1, 0], [0, 1]]"
   ]
  },
  {
   "cell_type": "code",
   "execution_count": 6,
   "id": "d2247b20",
   "metadata": {},
   "outputs": [],
   "source": [
    "mean = [[0.5,4.2], [2.4,1.6], [3,3.2]]"
   ]
  },
  {
   "cell_type": "code",
   "execution_count": 7,
   "id": "1e4bf4de",
   "metadata": {},
   "outputs": [
    {
     "data": {
      "text/plain": [
       "array([0.09228469, 0.00098008, 0.00035696, 0.01900835, 0.09653235,\n",
       "       0.14618577, 0.0015603 , 0.01685889, 0.00884523, 0.12965515])"
      ]
     },
     "execution_count": 7,
     "metadata": {},
     "output_type": "execute_result"
    }
   ],
   "source": [
    "import matplotlib.pyplot as plt\n",
    "from scipy.stats import multivariate_normal\n",
    "f1 = multivariate_normal.pdf(df_nump, mean=mean[0], cov=cov)\n",
    "f1"
   ]
  },
  {
   "cell_type": "markdown",
   "id": "ea0d9977",
   "metadata": {},
   "source": [
    "# 1 D normal dist"
   ]
  },
  {
   "cell_type": "code",
   "execution_count": 62,
   "id": "89a9fc67",
   "metadata": {},
   "outputs": [],
   "source": [
    "df = pd.DataFrame({\n",
    "...                   'X': [25.1,20.7,24.3,19.4,31.9,15.0]\n",
    "}\n",
    "...                  )"
   ]
  },
  {
   "cell_type": "code",
   "execution_count": 63,
   "id": "0ca8b8a5",
   "metadata": {},
   "outputs": [],
   "source": [
    "# var = 102\n",
    "# m = 22"
   ]
  },
  {
   "cell_type": "code",
   "execution_count": 67,
   "id": "60cb98b8",
   "metadata": {},
   "outputs": [
    {
     "data": {
      "text/plain": [
       "27.855555555555554"
      ]
     },
     "execution_count": 67,
     "metadata": {},
     "output_type": "execute_result"
    }
   ],
   "source": [
    "df['X'].var(ddof=0)"
   ]
  },
  {
   "cell_type": "code",
   "execution_count": 68,
   "id": "4fa4f442",
   "metadata": {},
   "outputs": [
    {
     "data": {
      "text/plain": [
       "22.733333333333334"
      ]
     },
     "execution_count": 68,
     "metadata": {},
     "output_type": "execute_result"
    }
   ],
   "source": [
    "df['X'].mean()"
   ]
  },
  {
   "cell_type": "code",
   "execution_count": 69,
   "id": "0170f7f3",
   "metadata": {},
   "outputs": [],
   "source": [
    "df2 = pd.DataFrame({\n",
    "...                   'X': [14.4,12.4,17.6,18.1]\n",
    "}\n",
    "...                  )"
   ]
  },
  {
   "cell_type": "code",
   "execution_count": 70,
   "id": "b0fd01e6",
   "metadata": {},
   "outputs": [
    {
     "data": {
      "text/plain": [
       "15.625000000000002"
      ]
     },
     "execution_count": 70,
     "metadata": {},
     "output_type": "execute_result"
    }
   ],
   "source": [
    "df2['X'].mean()"
   ]
  },
  {
   "cell_type": "code",
   "execution_count": 71,
   "id": "77b7c3d1",
   "metadata": {},
   "outputs": [
    {
     "data": {
      "text/plain": [
       "5.481875000000002"
      ]
     },
     "execution_count": 71,
     "metadata": {},
     "output_type": "execute_result"
    }
   ],
   "source": [
    "df2['X'].var(ddof=0)"
   ]
  },
  {
   "cell_type": "code",
   "execution_count": 72,
   "id": "162b0ff9",
   "metadata": {},
   "outputs": [],
   "source": [
    "# import required libraries\n",
    "from scipy.stats import norm"
   ]
  },
  {
   "cell_type": "code",
   "execution_count": 73,
   "id": "d8ffc7df",
   "metadata": {},
   "outputs": [],
   "source": [
    "# norm.pdf([25,20,14,24,12,44,15])"
   ]
  },
  {
   "cell_type": "code",
   "execution_count": 74,
   "id": "218fe274",
   "metadata": {},
   "outputs": [],
   "source": [
    "# mean 100 and standard deviation 15\n",
    "from scipy import stats\n",
    "normal=stats.norm(loc=100, scale=15)"
   ]
  },
  {
   "cell_type": "code",
   "execution_count": 75,
   "id": "ac4d5207",
   "metadata": {},
   "outputs": [
    {
     "name": "stdout",
     "output_type": "stream",
     "text": [
      "[0.010934   0.0035994  0.00075973]\n"
     ]
    }
   ],
   "source": [
    "print(normal.pdf([120,130,140]))"
   ]
  },
  {
   "cell_type": "code",
   "execution_count": 92,
   "id": "25f12c95",
   "metadata": {},
   "outputs": [],
   "source": [
    "# for df\n",
    "normal=stats.norm(loc=df['X'].mean(), scale=df['X'].std(ddof=0))"
   ]
  },
  {
   "cell_type": "code",
   "execution_count": 93,
   "id": "43080e3d",
   "metadata": {},
   "outputs": [
    {
     "name": "stdout",
     "output_type": "stream",
     "text": [
      "[0.06835824 0.07018175 0.07233036 0.06192097 0.01672699 0.02583748]\n"
     ]
    }
   ],
   "source": [
    "print(normal.pdf([25.1,20.7,24.3,19.4,31.9,15.0]))"
   ]
  },
  {
   "cell_type": "code",
   "execution_count": 94,
   "id": "c99a1fa8",
   "metadata": {},
   "outputs": [
    {
     "name": "stdout",
     "output_type": "stream",
     "text": [
      "[0.07529332]\n"
     ]
    }
   ],
   "source": [
    "print(normal.pdf([23.2]))"
   ]
  },
  {
   "cell_type": "code",
   "execution_count": 95,
   "id": "b9ae8407",
   "metadata": {},
   "outputs": [],
   "source": [
    "# for df2\n",
    "normal=stats.norm(loc=df2['X'].mean(), scale=df2['X'].std(ddof=0))"
   ]
  },
  {
   "cell_type": "code",
   "execution_count": 96,
   "id": "3e13c4be",
   "metadata": {},
   "outputs": [
    {
     "name": "stdout",
     "output_type": "stream",
     "text": [
      "[0.14859458 0.06598686 0.11938081 0.09745365]\n"
     ]
    }
   ],
   "source": [
    "print(normal.pdf([14.4,12.4,17.6,18.1]))"
   ]
  },
  {
   "cell_type": "code",
   "execution_count": 97,
   "id": "6b34545b",
   "metadata": {},
   "outputs": [
    {
     "name": "stdout",
     "output_type": "stream",
     "text": [
      "[0.00090885]\n"
     ]
    }
   ],
   "source": [
    "print(normal.pdf([23.2]))"
   ]
  },
  {
   "cell_type": "code",
   "execution_count": 98,
   "id": "18541be4",
   "metadata": {},
   "outputs": [
    {
     "data": {
      "text/plain": [
       "array([0.0011938])"
      ]
     },
     "execution_count": 98,
     "metadata": {},
     "output_type": "execute_result"
    }
   ],
   "source": [
    "normal.pdf([23])"
   ]
  },
  {
   "cell_type": "markdown",
   "id": "d7f4f8b9",
   "metadata": {},
   "source": [
    "# KDE"
   ]
  },
  {
   "cell_type": "code",
   "execution_count": 60,
   "id": "89f787a2",
   "metadata": {},
   "outputs": [
    {
     "data": {
      "text/html": [
       "<div>\n",
       "<style scoped>\n",
       "    .dataframe tbody tr th:only-of-type {\n",
       "        vertical-align: middle;\n",
       "    }\n",
       "\n",
       "    .dataframe tbody tr th {\n",
       "        vertical-align: top;\n",
       "    }\n",
       "\n",
       "    .dataframe thead th {\n",
       "        text-align: right;\n",
       "    }\n",
       "</style>\n",
       "<table border=\"1\" class=\"dataframe\">\n",
       "  <thead>\n",
       "    <tr style=\"text-align: right;\">\n",
       "      <th></th>\n",
       "      <th>Xj</th>\n",
       "      <th>1_z</th>\n",
       "      <th>1_k</th>\n",
       "      <th>5_z</th>\n",
       "      <th>5_k</th>\n",
       "      <th>6_z</th>\n",
       "      <th>6_k</th>\n",
       "      <th>9_z</th>\n",
       "      <th>9_k</th>\n",
       "      <th>15_z</th>\n",
       "      <th>15_k</th>\n",
       "      <th>k_sum</th>\n",
       "      <th>kde</th>\n",
       "    </tr>\n",
       "  </thead>\n",
       "  <tbody>\n",
       "    <tr>\n",
       "      <th>0</th>\n",
       "      <td>-0.5</td>\n",
       "      <td>0.500000</td>\n",
       "      <td>1</td>\n",
       "      <td>1.833333</td>\n",
       "      <td>0</td>\n",
       "      <td>2.166667</td>\n",
       "      <td>0</td>\n",
       "      <td>3.166667</td>\n",
       "      <td>0</td>\n",
       "      <td>5.166667</td>\n",
       "      <td>0</td>\n",
       "      <td>1</td>\n",
       "      <td>0.066667</td>\n",
       "    </tr>\n",
       "    <tr>\n",
       "      <th>1</th>\n",
       "      <td>2.5</td>\n",
       "      <td>0.500000</td>\n",
       "      <td>1</td>\n",
       "      <td>0.833333</td>\n",
       "      <td>0</td>\n",
       "      <td>1.166667</td>\n",
       "      <td>0</td>\n",
       "      <td>2.166667</td>\n",
       "      <td>0</td>\n",
       "      <td>4.166667</td>\n",
       "      <td>0</td>\n",
       "      <td>1</td>\n",
       "      <td>0.066667</td>\n",
       "    </tr>\n",
       "    <tr>\n",
       "      <th>2</th>\n",
       "      <td>3.5</td>\n",
       "      <td>0.833333</td>\n",
       "      <td>0</td>\n",
       "      <td>0.500000</td>\n",
       "      <td>1</td>\n",
       "      <td>0.833333</td>\n",
       "      <td>0</td>\n",
       "      <td>1.833333</td>\n",
       "      <td>0</td>\n",
       "      <td>3.833333</td>\n",
       "      <td>0</td>\n",
       "      <td>1</td>\n",
       "      <td>0.066667</td>\n",
       "    </tr>\n",
       "    <tr>\n",
       "      <th>3</th>\n",
       "      <td>4.5</td>\n",
       "      <td>1.166667</td>\n",
       "      <td>0</td>\n",
       "      <td>0.166667</td>\n",
       "      <td>1</td>\n",
       "      <td>0.500000</td>\n",
       "      <td>1</td>\n",
       "      <td>1.500000</td>\n",
       "      <td>0</td>\n",
       "      <td>3.500000</td>\n",
       "      <td>0</td>\n",
       "      <td>2</td>\n",
       "      <td>0.133333</td>\n",
       "    </tr>\n",
       "    <tr>\n",
       "      <th>4</th>\n",
       "      <td>6.5</td>\n",
       "      <td>1.833333</td>\n",
       "      <td>0</td>\n",
       "      <td>0.500000</td>\n",
       "      <td>1</td>\n",
       "      <td>0.166667</td>\n",
       "      <td>1</td>\n",
       "      <td>0.833333</td>\n",
       "      <td>0</td>\n",
       "      <td>2.833333</td>\n",
       "      <td>0</td>\n",
       "      <td>2</td>\n",
       "      <td>0.133333</td>\n",
       "    </tr>\n",
       "    <tr>\n",
       "      <th>5</th>\n",
       "      <td>7.5</td>\n",
       "      <td>2.166667</td>\n",
       "      <td>0</td>\n",
       "      <td>0.833333</td>\n",
       "      <td>0</td>\n",
       "      <td>0.500000</td>\n",
       "      <td>1</td>\n",
       "      <td>0.500000</td>\n",
       "      <td>1</td>\n",
       "      <td>2.500000</td>\n",
       "      <td>0</td>\n",
       "      <td>2</td>\n",
       "      <td>0.133333</td>\n",
       "    </tr>\n",
       "    <tr>\n",
       "      <th>6</th>\n",
       "      <td>10.5</td>\n",
       "      <td>3.166667</td>\n",
       "      <td>0</td>\n",
       "      <td>1.833333</td>\n",
       "      <td>0</td>\n",
       "      <td>1.500000</td>\n",
       "      <td>0</td>\n",
       "      <td>0.500000</td>\n",
       "      <td>1</td>\n",
       "      <td>1.500000</td>\n",
       "      <td>0</td>\n",
       "      <td>1</td>\n",
       "      <td>0.066667</td>\n",
       "    </tr>\n",
       "    <tr>\n",
       "      <th>7</th>\n",
       "      <td>13.5</td>\n",
       "      <td>4.166667</td>\n",
       "      <td>0</td>\n",
       "      <td>2.833333</td>\n",
       "      <td>0</td>\n",
       "      <td>2.500000</td>\n",
       "      <td>0</td>\n",
       "      <td>1.500000</td>\n",
       "      <td>0</td>\n",
       "      <td>0.500000</td>\n",
       "      <td>1</td>\n",
       "      <td>1</td>\n",
       "      <td>0.066667</td>\n",
       "    </tr>\n",
       "    <tr>\n",
       "      <th>8</th>\n",
       "      <td>16.5</td>\n",
       "      <td>5.166667</td>\n",
       "      <td>0</td>\n",
       "      <td>3.833333</td>\n",
       "      <td>0</td>\n",
       "      <td>3.500000</td>\n",
       "      <td>0</td>\n",
       "      <td>2.500000</td>\n",
       "      <td>0</td>\n",
       "      <td>0.500000</td>\n",
       "      <td>1</td>\n",
       "      <td>1</td>\n",
       "      <td>0.066667</td>\n",
       "    </tr>\n",
       "  </tbody>\n",
       "</table>\n",
       "</div>"
      ],
      "text/plain": [
       "     Xj       1_z  1_k       5_z  5_k       6_z  6_k       9_z  9_k      15_z  \\\n",
       "0  -0.5  0.500000    1  1.833333    0  2.166667    0  3.166667    0  5.166667   \n",
       "1   2.5  0.500000    1  0.833333    0  1.166667    0  2.166667    0  4.166667   \n",
       "2   3.5  0.833333    0  0.500000    1  0.833333    0  1.833333    0  3.833333   \n",
       "3   4.5  1.166667    0  0.166667    1  0.500000    1  1.500000    0  3.500000   \n",
       "4   6.5  1.833333    0  0.500000    1  0.166667    1  0.833333    0  2.833333   \n",
       "5   7.5  2.166667    0  0.833333    0  0.500000    1  0.500000    1  2.500000   \n",
       "6  10.5  3.166667    0  1.833333    0  1.500000    0  0.500000    1  1.500000   \n",
       "7  13.5  4.166667    0  2.833333    0  2.500000    0  1.500000    0  0.500000   \n",
       "8  16.5  5.166667    0  3.833333    0  3.500000    0  2.500000    0  0.500000   \n",
       "\n",
       "   15_k  k_sum       kde  \n",
       "0     0      1  0.066667  \n",
       "1     0      1  0.066667  \n",
       "2     0      1  0.066667  \n",
       "3     0      2  0.133333  \n",
       "4     0      2  0.133333  \n",
       "5     0      2  0.133333  \n",
       "6     0      1  0.066667  \n",
       "7     1      1  0.066667  \n",
       "8     1      1  0.066667  "
      ]
     },
     "execution_count": 60,
     "metadata": {},
     "output_type": "execute_result"
    }
   ],
   "source": [
    "from numpy import array, linspace\n",
    "# s = linspace(1,20)\n",
    "df_kde = pd.DataFrame({'Xj': [-0.5,2.5,3.5,4.5,6.5,7.5,10.5,13.5,16.5]})\n",
    "# df_kde = pd.DataFrame(s,columns = ['Xj'])\n",
    "df_kde['1_z'] = abs((df_kde['Xj']-1)/3)\n",
    "df_kde['1_k'] = df_kde['1_z'].apply(lambda x: 0 if x > 0.5 else 1)\n",
    "df_kde['5_z'] = abs((df_kde['Xj']-5)/3)\n",
    "df_kde['5_k'] = df_kde['5_z'].apply(lambda x: 0 if x > 0.5 else 1)\n",
    "df_kde['6_z'] = abs((df_kde['Xj']-6)/3)\n",
    "df_kde['6_k'] = df_kde['6_z'].apply(lambda x: 0 if x > 0.5 else 1)\n",
    "df_kde['9_z'] = abs((df_kde['Xj']-9)/3)\n",
    "df_kde['9_k'] = df_kde['9_z'].apply(lambda x: 0 if x > 0.5 else 1)\n",
    "df_kde['15_z'] = abs((df_kde['Xj']-15)/3)\n",
    "df_kde['15_k'] = df_kde['15_z'].apply(lambda x: 0 if x > 0.5 else 1)\n",
    "df_kde['k_sum'] = (df_kde['1_k'] + df_kde['5_k'] + df_kde['6_k'] + df_kde['9_k'] + df_kde['15_k'])\n",
    "df_kde['kde'] = (df_kde['1_k'] + df_kde['5_k'] + df_kde['6_k'] + df_kde['9_k'] + df_kde['15_k'])/15\n",
    "df_kde"
   ]
  },
  {
   "cell_type": "code",
   "execution_count": 61,
   "id": "da5b7f46",
   "metadata": {},
   "outputs": [],
   "source": [
    "# from matplotlib.pyplot import plot\n",
    "\n",
    "# kde_np = df_kde['kde'].to_numpy()\n",
    "# vals = df_kde['Xj'].to_numpy()\n",
    "# plot(vals, kde_np)"
   ]
  },
  {
   "cell_type": "code",
   "execution_count": 100,
   "id": "7255b5dc",
   "metadata": {},
   "outputs": [
    {
     "data": {
      "text/plain": [
       "3.5"
      ]
     },
     "execution_count": 100,
     "metadata": {},
     "output_type": "execute_result"
    }
   ],
   "source": [
    "(2+3+4+5)/4"
   ]
  },
  {
   "cell_type": "markdown",
   "id": "48052c12",
   "metadata": {},
   "source": [
    "(6+10+14)/3"
   ]
  },
  {
   "cell_type": "code",
   "execution_count": 101,
   "id": "94899bdb",
   "metadata": {},
   "outputs": [
    {
     "data": {
      "text/plain": [
       "10.0"
      ]
     },
     "execution_count": 101,
     "metadata": {},
     "output_type": "execute_result"
    }
   ],
   "source": [
    "(6+10+14)/3"
   ]
  },
  {
   "cell_type": "code",
   "execution_count": 103,
   "id": "1835c3e4",
   "metadata": {},
   "outputs": [],
   "source": [
    "df = pd.DataFrame({\n",
    "...                   'X': [2,3,4,5,6,10,14]\n",
    "}\n",
    "...                  )"
   ]
  },
  {
   "cell_type": "code",
   "execution_count": 104,
   "id": "da402e3e",
   "metadata": {},
   "outputs": [],
   "source": [
    "df['X-3.5']=df['X']-3.5"
   ]
  },
  {
   "cell_type": "code",
   "execution_count": 105,
   "id": "76fcd5c2",
   "metadata": {},
   "outputs": [],
   "source": [
    "df['X-10']=df['X']-10"
   ]
  },
  {
   "cell_type": "code",
   "execution_count": 106,
   "id": "0ec41dc7",
   "metadata": {},
   "outputs": [
    {
     "data": {
      "text/html": [
       "<div>\n",
       "<style scoped>\n",
       "    .dataframe tbody tr th:only-of-type {\n",
       "        vertical-align: middle;\n",
       "    }\n",
       "\n",
       "    .dataframe tbody tr th {\n",
       "        vertical-align: top;\n",
       "    }\n",
       "\n",
       "    .dataframe thead th {\n",
       "        text-align: right;\n",
       "    }\n",
       "</style>\n",
       "<table border=\"1\" class=\"dataframe\">\n",
       "  <thead>\n",
       "    <tr style=\"text-align: right;\">\n",
       "      <th></th>\n",
       "      <th>X</th>\n",
       "      <th>X-3.5</th>\n",
       "      <th>X-10</th>\n",
       "    </tr>\n",
       "  </thead>\n",
       "  <tbody>\n",
       "    <tr>\n",
       "      <th>0</th>\n",
       "      <td>2</td>\n",
       "      <td>-1.5</td>\n",
       "      <td>-8</td>\n",
       "    </tr>\n",
       "    <tr>\n",
       "      <th>1</th>\n",
       "      <td>3</td>\n",
       "      <td>-0.5</td>\n",
       "      <td>-7</td>\n",
       "    </tr>\n",
       "    <tr>\n",
       "      <th>2</th>\n",
       "      <td>4</td>\n",
       "      <td>0.5</td>\n",
       "      <td>-6</td>\n",
       "    </tr>\n",
       "    <tr>\n",
       "      <th>3</th>\n",
       "      <td>5</td>\n",
       "      <td>1.5</td>\n",
       "      <td>-5</td>\n",
       "    </tr>\n",
       "    <tr>\n",
       "      <th>4</th>\n",
       "      <td>6</td>\n",
       "      <td>2.5</td>\n",
       "      <td>-4</td>\n",
       "    </tr>\n",
       "    <tr>\n",
       "      <th>5</th>\n",
       "      <td>10</td>\n",
       "      <td>6.5</td>\n",
       "      <td>0</td>\n",
       "    </tr>\n",
       "    <tr>\n",
       "      <th>6</th>\n",
       "      <td>14</td>\n",
       "      <td>10.5</td>\n",
       "      <td>4</td>\n",
       "    </tr>\n",
       "  </tbody>\n",
       "</table>\n",
       "</div>"
      ],
      "text/plain": [
       "    X  X-3.5  X-10\n",
       "0   2   -1.5    -8\n",
       "1   3   -0.5    -7\n",
       "2   4    0.5    -6\n",
       "3   5    1.5    -5\n",
       "4   6    2.5    -4\n",
       "5  10    6.5     0\n",
       "6  14   10.5     4"
      ]
     },
     "execution_count": 106,
     "metadata": {},
     "output_type": "execute_result"
    }
   ],
   "source": [
    "df"
   ]
  },
  {
   "cell_type": "code",
   "execution_count": 107,
   "id": "ff1f6d9b",
   "metadata": {},
   "outputs": [
    {
     "data": {
      "text/plain": [
       "4.0"
      ]
     },
     "execution_count": 107,
     "metadata": {},
     "output_type": "execute_result"
    }
   ],
   "source": [
    "(2+3+4+5+6)/5"
   ]
  },
  {
   "cell_type": "code",
   "execution_count": 108,
   "id": "f9aee960",
   "metadata": {},
   "outputs": [
    {
     "data": {
      "text/plain": [
       "12.0"
      ]
     },
     "execution_count": 108,
     "metadata": {},
     "output_type": "execute_result"
    }
   ],
   "source": [
    "(10+14)/2"
   ]
  },
  {
   "cell_type": "code",
   "execution_count": 109,
   "id": "1a34ad70",
   "metadata": {},
   "outputs": [],
   "source": [
    "df['X-4']=df['X']-4"
   ]
  },
  {
   "cell_type": "code",
   "execution_count": 110,
   "id": "bf5b2126",
   "metadata": {},
   "outputs": [],
   "source": [
    "df['X-12']=df['X']-12"
   ]
  },
  {
   "cell_type": "code",
   "execution_count": 111,
   "id": "87817226",
   "metadata": {},
   "outputs": [
    {
     "data": {
      "text/html": [
       "<div>\n",
       "<style scoped>\n",
       "    .dataframe tbody tr th:only-of-type {\n",
       "        vertical-align: middle;\n",
       "    }\n",
       "\n",
       "    .dataframe tbody tr th {\n",
       "        vertical-align: top;\n",
       "    }\n",
       "\n",
       "    .dataframe thead th {\n",
       "        text-align: right;\n",
       "    }\n",
       "</style>\n",
       "<table border=\"1\" class=\"dataframe\">\n",
       "  <thead>\n",
       "    <tr style=\"text-align: right;\">\n",
       "      <th></th>\n",
       "      <th>X</th>\n",
       "      <th>X-3.5</th>\n",
       "      <th>X-10</th>\n",
       "      <th>X-4</th>\n",
       "      <th>X-12</th>\n",
       "    </tr>\n",
       "  </thead>\n",
       "  <tbody>\n",
       "    <tr>\n",
       "      <th>0</th>\n",
       "      <td>2</td>\n",
       "      <td>-1.5</td>\n",
       "      <td>-8</td>\n",
       "      <td>-2</td>\n",
       "      <td>-10</td>\n",
       "    </tr>\n",
       "    <tr>\n",
       "      <th>1</th>\n",
       "      <td>3</td>\n",
       "      <td>-0.5</td>\n",
       "      <td>-7</td>\n",
       "      <td>-1</td>\n",
       "      <td>-9</td>\n",
       "    </tr>\n",
       "    <tr>\n",
       "      <th>2</th>\n",
       "      <td>4</td>\n",
       "      <td>0.5</td>\n",
       "      <td>-6</td>\n",
       "      <td>0</td>\n",
       "      <td>-8</td>\n",
       "    </tr>\n",
       "    <tr>\n",
       "      <th>3</th>\n",
       "      <td>5</td>\n",
       "      <td>1.5</td>\n",
       "      <td>-5</td>\n",
       "      <td>1</td>\n",
       "      <td>-7</td>\n",
       "    </tr>\n",
       "    <tr>\n",
       "      <th>4</th>\n",
       "      <td>6</td>\n",
       "      <td>2.5</td>\n",
       "      <td>-4</td>\n",
       "      <td>2</td>\n",
       "      <td>-6</td>\n",
       "    </tr>\n",
       "    <tr>\n",
       "      <th>5</th>\n",
       "      <td>10</td>\n",
       "      <td>6.5</td>\n",
       "      <td>0</td>\n",
       "      <td>6</td>\n",
       "      <td>-2</td>\n",
       "    </tr>\n",
       "    <tr>\n",
       "      <th>6</th>\n",
       "      <td>14</td>\n",
       "      <td>10.5</td>\n",
       "      <td>4</td>\n",
       "      <td>10</td>\n",
       "      <td>2</td>\n",
       "    </tr>\n",
       "  </tbody>\n",
       "</table>\n",
       "</div>"
      ],
      "text/plain": [
       "    X  X-3.5  X-10  X-4  X-12\n",
       "0   2   -1.5    -8   -2   -10\n",
       "1   3   -0.5    -7   -1    -9\n",
       "2   4    0.5    -6    0    -8\n",
       "3   5    1.5    -5    1    -7\n",
       "4   6    2.5    -4    2    -6\n",
       "5  10    6.5     0    6    -2\n",
       "6  14   10.5     4   10     2"
      ]
     },
     "execution_count": 111,
     "metadata": {},
     "output_type": "execute_result"
    }
   ],
   "source": [
    "df"
   ]
  },
  {
   "cell_type": "code",
   "execution_count": 112,
   "id": "961b1585",
   "metadata": {},
   "outputs": [
    {
     "data": {
      "text/plain": [
       "2.5"
      ]
     },
     "execution_count": 112,
     "metadata": {},
     "output_type": "execute_result"
    }
   ],
   "source": [
    "(2+3)/2"
   ]
  },
  {
   "cell_type": "code",
   "execution_count": 113,
   "id": "27ed9468",
   "metadata": {},
   "outputs": [
    {
     "data": {
      "text/plain": [
       "7.8"
      ]
     },
     "execution_count": 113,
     "metadata": {},
     "output_type": "execute_result"
    }
   ],
   "source": [
    "(4+5+6+10+14)/5"
   ]
  },
  {
   "cell_type": "code",
   "execution_count": 117,
   "id": "b66a4628",
   "metadata": {},
   "outputs": [],
   "source": [
    "df = pd.DataFrame({\n",
    "...                   'X': [2,3,4,5,6,10,14]\n",
    "}\n",
    "...                  )"
   ]
  },
  {
   "cell_type": "code",
   "execution_count": 119,
   "id": "73fc4e0d",
   "metadata": {},
   "outputs": [],
   "source": [
    "df['X-2.5']=df['X']-2.5"
   ]
  },
  {
   "cell_type": "code",
   "execution_count": 120,
   "id": "44c0a40b",
   "metadata": {},
   "outputs": [],
   "source": [
    "df['X-7.8']=df['X']-7.8"
   ]
  },
  {
   "cell_type": "code",
   "execution_count": 121,
   "id": "6b7be8c4",
   "metadata": {},
   "outputs": [
    {
     "data": {
      "text/html": [
       "<div>\n",
       "<style scoped>\n",
       "    .dataframe tbody tr th:only-of-type {\n",
       "        vertical-align: middle;\n",
       "    }\n",
       "\n",
       "    .dataframe tbody tr th {\n",
       "        vertical-align: top;\n",
       "    }\n",
       "\n",
       "    .dataframe thead th {\n",
       "        text-align: right;\n",
       "    }\n",
       "</style>\n",
       "<table border=\"1\" class=\"dataframe\">\n",
       "  <thead>\n",
       "    <tr style=\"text-align: right;\">\n",
       "      <th></th>\n",
       "      <th>X</th>\n",
       "      <th>X-2.5</th>\n",
       "      <th>X-7.8</th>\n",
       "    </tr>\n",
       "  </thead>\n",
       "  <tbody>\n",
       "    <tr>\n",
       "      <th>0</th>\n",
       "      <td>2</td>\n",
       "      <td>-0.5</td>\n",
       "      <td>-5.8</td>\n",
       "    </tr>\n",
       "    <tr>\n",
       "      <th>1</th>\n",
       "      <td>3</td>\n",
       "      <td>0.5</td>\n",
       "      <td>-4.8</td>\n",
       "    </tr>\n",
       "    <tr>\n",
       "      <th>2</th>\n",
       "      <td>4</td>\n",
       "      <td>1.5</td>\n",
       "      <td>-3.8</td>\n",
       "    </tr>\n",
       "    <tr>\n",
       "      <th>3</th>\n",
       "      <td>5</td>\n",
       "      <td>2.5</td>\n",
       "      <td>-2.8</td>\n",
       "    </tr>\n",
       "    <tr>\n",
       "      <th>4</th>\n",
       "      <td>6</td>\n",
       "      <td>3.5</td>\n",
       "      <td>-1.8</td>\n",
       "    </tr>\n",
       "    <tr>\n",
       "      <th>5</th>\n",
       "      <td>10</td>\n",
       "      <td>7.5</td>\n",
       "      <td>2.2</td>\n",
       "    </tr>\n",
       "    <tr>\n",
       "      <th>6</th>\n",
       "      <td>14</td>\n",
       "      <td>11.5</td>\n",
       "      <td>6.2</td>\n",
       "    </tr>\n",
       "  </tbody>\n",
       "</table>\n",
       "</div>"
      ],
      "text/plain": [
       "    X  X-2.5  X-7.8\n",
       "0   2   -0.5   -5.8\n",
       "1   3    0.5   -4.8\n",
       "2   4    1.5   -3.8\n",
       "3   5    2.5   -2.8\n",
       "4   6    3.5   -1.8\n",
       "5  10    7.5    2.2\n",
       "6  14   11.5    6.2"
      ]
     },
     "execution_count": 121,
     "metadata": {},
     "output_type": "execute_result"
    }
   ],
   "source": [
    "df"
   ]
  },
  {
   "cell_type": "code",
   "execution_count": null,
   "id": "2c44d58e",
   "metadata": {},
   "outputs": [],
   "source": []
  }
 ],
 "metadata": {
  "kernelspec": {
   "display_name": "Python 3",
   "language": "python",
   "name": "python3"
  },
  "language_info": {
   "codemirror_mode": {
    "name": "ipython",
    "version": 3
   },
   "file_extension": ".py",
   "mimetype": "text/x-python",
   "name": "python",
   "nbconvert_exporter": "python",
   "pygments_lexer": "ipython3",
   "version": "3.8.8"
  }
 },
 "nbformat": 4,
 "nbformat_minor": 5
}
